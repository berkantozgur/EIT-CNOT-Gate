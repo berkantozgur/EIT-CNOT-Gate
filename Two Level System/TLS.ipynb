{
 "cells": [
  {
   "cell_type": "code",
   "execution_count": null,
   "id": "842e02da-46d4-4698-b838-dc566173caea",
   "metadata": {
    "tags": []
   },
   "outputs": [],
   "source": [
    "import math\n",
    "import numpy as np\n",
    "import matplotlib.pyplot as plt\n",
    "import scienceplots\n",
    "from scipy.integrate import odeint, solve_ivp, complex_ode\n",
    "import scipy.constants as cons\n",
    "import scipy.linalg as la\n",
    "from qutip import *\n",
    "\n",
    "from sympy import *\n",
    "from sympy.solvers.solveset import linsolve\n",
    "init_printing(use_unicode=True) # pretty printing"
   ]
  },
  {
   "cell_type": "markdown",
   "id": "12f6e146-4577-45d5-8276-f0af097573b8",
   "metadata": {
    "tags": []
   },
   "source": [
    "# Rabi Oscillations in Two Level System"
   ]
  },
  {
   "cell_type": "markdown",
   "id": "cfee8a1e-ca54-46bf-ab8a-ffc2f7871d5b",
   "metadata": {},
   "source": [
    "## 1. Steady State Solution"
   ]
  },
  {
   "cell_type": "code",
   "execution_count": null,
   "id": "f64b2fbb-c208-4e45-b729-f88855c3bdd7",
   "metadata": {},
   "outputs": [],
   "source": [
    "# Symbol definitions for density matrix components\n",
    "rho11, rho12, rho21, rho22 = symbols('rho11 rho12 rho21 rho22')\n",
    "Delta = symbols('Delta')\n",
    "\n",
    "# Symbol definitions for Hamiltonian components\n",
    "Omega = symbols('Omega')\n",
    "hbar = symbols('hbar')\n",
    "\n",
    "# Symbol definitions for Lindbladian components\n",
    "gamma1 = symbols('gamma_1')\n",
    "\n",
    "p = Matrix([[rho11, rho12], [rho21, rho22]]) # Density Matrix\n",
    "\n",
    "H_AL = hbar/2 * Matrix([[0, Omega], [Omega, -2*Delta]])\n",
    "\n",
    "# Atomic Transition Operators\n",
    "p11 = Matrix([[1, 0], [0, 0]])\n",
    "p22 = Matrix([[0, 0], [0, 1]])\n",
    "p12 = Matrix([[0, 1], [0, 0]])\n",
    "p21 = Matrix([[0, 0], [1, 0]])\n",
    "\n",
    "# Lidbladian Components\n",
    "L21 = gamma1 * ((p12 * p * p21) - (p22 * p)/2 - (p * p22)/2)\n",
    "\n",
    "# Lindbladian\n",
    "L = L21\n",
    "\n",
    "# Lindbladian Master Equation\n",
    "liouville = -(I/hbar) * ((H_AL * p) - (p * H_AL))\n",
    "obe = liouville + L\n",
    "\n",
    "cond = obe[0] + obe[3]\n",
    "\n",
    "if simplify(cond) == 0:\n",
    "    print(\"The condition p11 + p22 = 0 holds\")\n",
    "else:\n",
    "    print(\"Conndition does not hold\")\n",
    "\n",
    "simplify(obe)\n",
    "#simplify(H_AL)"
   ]
  },
  {
   "cell_type": "code",
   "execution_count": null,
   "id": "35c668da-858d-4344-9373-086d1e481630",
   "metadata": {},
   "outputs": [],
   "source": [
    "eqns = [obe[0], obe[3], obe[1], obe[2], Eq(rho11 + rho22, 1)]\n",
    "vars = [rho11, rho12, rho21, rho22]\n",
    "solst = solve(eqns, vars, rational=False)\n",
    "solsts = list(solst.values())\n",
    "\n",
    "l = []\n",
    "for expr in solsts:\n",
    "    f = lambdify([Delta, Omega, gamma1], expr, \"numpy\")\n",
    "    l.append(f)"
   ]
  },
  {
   "cell_type": "code",
   "execution_count": null,
   "id": "d3e3d731-e7bd-410b-8528-64662d127c30",
   "metadata": {},
   "outputs": [],
   "source": [
    "# -- Two Level System Steady State Solution   ##V1##\n",
    "    \n",
    "# Rabi frequencies of probe field\n",
    "Omega = 2 * np.pi * 1\n",
    "\n",
    "# Radiative decay rate\n",
    "gamma_1 = 2 * np.pi * 1\n",
    "\n",
    "# Probe detuning range\n",
    "d_range = np.arange(-50,51,0.01)    \n",
    "\n",
    "p1 = l[0](d_range, Omega, gamma_1)\n",
    "p2 = l[3](d_range, Omega, gamma_1)\n",
    "coh12 = l[1](d_range, Omega, gamma_1)\n",
    "coh21 = l[2](d_range, Omega, gamma_1)\n",
    "\n",
    "pop = p1 + p2  # total populations\n",
    "\n",
    "rho12 = coh12.imag\n",
    "\n",
    "# Store the population of imaginary part of coherence 12 to retrieve it from another notebook for comparison.\n",
    "%store rho12\n",
    "\n",
    "# ---------- Plotting ----------\n",
    "plt.style.use(['science', 'notebook', 'grid'])\n",
    "\n",
    "# Populations\n",
    "plt.plot(d_range/(2*np.pi), p1.real, label=r\"$|1\\rangle$\")\n",
    "plt.plot(d_range/(2*np.pi), p2.real, label=r\"$|2\\rangle$\")\n",
    "plt.plot(d_range/(2*np.pi), coh12.real, label=r\"Re $\\rho12$\")\n",
    "plt.plot(d_range/(2*np.pi), coh12.imag, label=r\"Im $\\rho12$\")\n",
    "\n",
    "# Total population\n",
    "#plt.plot(d_range/(2*np.pi), pop.real, label=\"Total populations\")\n",
    "\n",
    "plt.xlabel('$\\Delta/2\\pi$')\n",
    "plt.ylabel(r'Population ($\\rho$)')\n",
    "\n",
    "plt.legend(loc='upper right')"
   ]
  },
  {
   "cell_type": "code",
   "execution_count": null,
   "id": "0dd314d0-4082-4490-af9f-db9b3a085fe2",
   "metadata": {},
   "outputs": [],
   "source": [
    "# -- Two Level System Steady State Solution  ##V2##\n",
    "\n",
    "# Rabi frequencies of probe field\n",
    "Omega = 2 * np.pi * 1\n",
    "\n",
    "w = (Omega*1j)/2\n",
    "\n",
    "# Radiative decay rate\n",
    "gamma1 = 2 * np.pi * 1\n",
    "\n",
    "# Probe detuning range\n",
    "d_range = np.arange(-50,51,0.01)    \n",
    "\n",
    "sol = np.empty((4, len(d_range)), dtype='complex')\n",
    "for d in range(len(d_range)):\n",
    "    \n",
    "    drho = np.array([[0, w, -w, gamma1],                        # p11\n",
    "                     [0, -w, w, -gamma1],                       # p22\n",
    "                     [w, -d_range[d]*1j - gamma1/2, 0, -w],     # p12\n",
    "                     [-w, 0, d_range[d]*1j - gamma1/2, w],      # p21\n",
    "                     [1, 0, 0, 1]])\n",
    "\n",
    "    b = np.array([0, 0, 0, 0, 1])\n",
    "\n",
    "    rho = la.lstsq(drho, b)[0]\n",
    "    sol[:, d] = rho\n",
    "\n",
    "pop = sol[0] + sol[3]  # total populations\n",
    "\n",
    "rho12 = sol[1, :].imag\n",
    "\n",
    "# Store the population of imaginary part of coherence 12 to retrieve it from another notebook for comparison.\n",
    "%store rho12\n",
    "\n",
    "# ---------- Plotting ----------\n",
    "plt.style.use(['science', 'notebook', 'grid'])\n",
    "\n",
    "# Populations\n",
    "plt.plot(d_range/(2*np.pi), sol[0, :].real, label=r\"$\\rho |1\\rangle$\")\n",
    "plt.plot(d_range/(2*np.pi), sol[1, :].imag, label=r\"Im $\\rho12$\")\n",
    "\n",
    "# Total population\n",
    "plt.plot(d_range/(2*np.pi), pop.real, label=\"Total populations\")\n",
    "\n",
    "plt.xlabel('$\\Delta/2\\pi$')\n",
    "plt.ylabel(r'Population ($\\rho$)')\n",
    "\n",
    "plt.legend(loc='upper right')"
   ]
  },
  {
   "cell_type": "markdown",
   "id": "dd3c79ff-bca7-4dd9-8e4a-2d92174b7d1e",
   "metadata": {
    "tags": []
   },
   "source": [
    "## 2. Numerical Solution\n",
    "\n",
    "We set Rabi Frequency to $$\\Omega_R/2 \\pi = 1MHz$$"
   ]
  },
  {
   "cell_type": "code",
   "execution_count": null,
   "id": "4db596cf-caaf-4ca5-8e30-606c71b30338",
   "metadata": {
    "tags": []
   },
   "outputs": [],
   "source": [
    "# Time array and rabi frequency initialization.\n",
    "\n",
    "omega_R = 2 * np.pi * 1    # Rabi Fequency 1MHz\n",
    "\n",
    "t_i = 0\n",
    "t_f = 5\n",
    "t = np.arange(t_i, t_f, 0.01)    # (\\micro s)"
   ]
  },
  {
   "cell_type": "markdown",
   "id": "b67b0eeb-11ce-48d1-b83c-ef3e17083c1f",
   "metadata": {},
   "source": [
    "$$\\dot{\\tilde{c_1}}(t) = \\frac{i}{2} \\Omega_R \\tilde{c_2}(t)$$\n",
    "$$\\dot{\\tilde{c_2}}(t) = \\frac{i}{2} \\Omega_R \\tilde{c_1}(t)$$"
   ]
  },
  {
   "cell_type": "code",
   "execution_count": null,
   "id": "d4b2ed56-d44a-4726-9793-c05988c2f5be",
   "metadata": {
    "tags": []
   },
   "outputs": [],
   "source": [
    "##### TESTING ODE SOLVER V1 #######\n",
    "\n",
    "#def dSdt(t, S):\n",
    "#    c1, c2 = S\n",
    "#    return [ (omega_R/2) * c2,\n",
    "#             (omega_R/2) * c1]\n",
    "\n",
    "def dSdt(t, S):\n",
    "    c1, c2 = S\n",
    "    return [(1j/2).real * omega_R * c2,\n",
    "            (1j/2).real * omega_R * c1]\n",
    "\n",
    "c1_0 = 1\n",
    "c2_0 = 0\n",
    "\n",
    "S_0 = (c1_0, c2_0)\n",
    "\n",
    "sol = odeint(dSdt, y0=S_0, t=t, tfirst=True)\n",
    "#sol = complex_ode(dSdt)\n",
    "\n",
    "c1_sol = sol.T[0]\n",
    "c2_sol = sol.T[1]\n",
    "\n",
    "# Plotting\n",
    "plt.plot(t, c1_sol, label=r'|g$\\rangle$')\n",
    "plt.plot(t, c2_sol, 'r--', label=r'|e$\\rangle$')\n",
    "plt.xlabel(r\"Time [$\\mu s$]\")\n",
    "plt.ylabel(\"Probability Density\")\n",
    "plt.legend(loc='upper right')\n",
    "################################"
   ]
  },
  {
   "cell_type": "markdown",
   "id": "c0a614c8-5ff3-4e40-8c5b-3211794b9581",
   "metadata": {},
   "source": [
    "$$\\ddot{\\tilde{c_1}}(t) = -\\frac{\\Omega_0^2}{4}\\tilde{c_1}(t)$$"
   ]
  },
  {
   "cell_type": "code",
   "execution_count": null,
   "id": "8f1cc8b1-d83c-4187-9b16-2295c80770fb",
   "metadata": {
    "tags": []
   },
   "outputs": [],
   "source": [
    "##### TESTING ODE SOLVER V2 #######\n",
    "\n",
    "def dSdt(t, S):  # 2nd order differential equation\n",
    "    c1, v = S\n",
    "    return [v, -(omega_R**2/4) * c1]\n",
    "\n",
    "c1_0 = 1\n",
    "v_0 = 0\n",
    "\n",
    "S_0 = (c1_0, v_0)\n",
    "\n",
    "sol = odeint(dSdt, y0=S_0, t=t, tfirst=True)\n",
    "\n",
    "c1_sol = sol.T[0]\n",
    "\n",
    "# Plotting\n",
    "plt.plot(t, c1_sol, label=r'|g$\\rangle$')\n",
    "plt.xlabel(r\"Time [$\\mu s$]\")\n",
    "plt.ylabel(\"Probability Density\")\n",
    "plt.legend(loc='upper right')\n",
    "################################"
   ]
  },
  {
   "cell_type": "markdown",
   "id": "7700c347-642c-465b-bf85-f7951d9d0d18",
   "metadata": {
    "tags": []
   },
   "source": [
    "## 3. Analytical Solution\n",
    "\n",
    "$$c_1(t) = \\cos(\\Omega_R t/2)$$\n",
    "$$c_2(t) = i\\sin(\\Omega_R t/2)$$\n",
    "\n",
    "$$P_2(t) = |c_2(t)|^2 = \\frac{\\Omega_R^2}{\\Omega^2}\\sin^2 \\left(\\frac{\\Omega t}{2}\\right)$$\n",
    "where $\\Delta = \\omega - \\omega_0$ is the detuning\n",
    "$$ \\Omega = \\sqrt{|\\Omega_R|^2 + \\Delta^2}$$"
   ]
  },
  {
   "cell_type": "code",
   "execution_count": null,
   "id": "9651310f-acc2-48b4-8366-84728b0a8bb0",
   "metadata": {
    "tags": []
   },
   "outputs": [],
   "source": [
    "def c1(t, rabi_freq):\n",
    "    return np.cos((rabi_freq * t) / 2)\n",
    "def c2(t, rabi_freq):\n",
    "    return 1j * np.sin((rabi_freq * t) / 2)\n",
    "\n",
    "g_c = c1(t, omega_R)\n",
    "e_c = c2(t, omega_R)"
   ]
  },
  {
   "cell_type": "markdown",
   "id": "bfb06015-657c-4d17-905f-91f0684c70ba",
   "metadata": {
    "tags": []
   },
   "source": [
    "#### when field is resonant with the transition, $\\Delta = 0$ "
   ]
  },
  {
   "cell_type": "code",
   "execution_count": null,
   "id": "7172cfd8-61fc-457b-933b-f7226df277f7",
   "metadata": {
    "tags": []
   },
   "outputs": [],
   "source": [
    "delta = 0    # detuning\n",
    "omega = np.sqrt(omega_R**2 + delta**2)\n",
    "\n",
    "y1 = g_c * np.conj(g_c)    # probability density of ground state\n",
    "y2 = (omega_R**2 / omega**2) * e_c * np.conj(e_c)    # probability density of excited state\n",
    "\n",
    "%store y1\n",
    "\n",
    "# Plotting\n",
    "plt.plot(t, y1, label=r'|g$\\rangle$')\n",
    "plt.plot(t, y2, 'r--', label=r'|e$\\rangle$')\n",
    "plt.xlabel(r\"Time [$\\mu s$]\")\n",
    "plt.ylabel(\"Probability Density\")\n",
    "plt.legend(loc='upper right')\n",
    "plt.savefig(\"Figures/no_detuning.pdf\")"
   ]
  },
  {
   "cell_type": "markdown",
   "id": "407d0bc8-ce66-4744-8253-f80c02f323c8",
   "metadata": {},
   "source": [
    "#### when field is not resonant with the transition, $\\Delta = \\omega - \\omega_0 = 0.8\\Omega_R$ "
   ]
  },
  {
   "cell_type": "code",
   "execution_count": null,
   "id": "aeaf73ec-84d1-4acf-8c94-cdf8e099ee7b",
   "metadata": {
    "tags": []
   },
   "outputs": [],
   "source": [
    "delta = 0.8 * omega_R    # detuning\n",
    "omega = np.sqrt(omega_R**2 + delta**2)\n",
    "\n",
    "y1 = g_c * np.conj(g_c)    # probability density of ground state\n",
    "y2 = (omega_R**2 / omega**2) * e_c * np.conj(e_c)    # probability density of excited state\n",
    "\n",
    "# Plotting\n",
    "plt.plot(t, y1, label=r'|g$\\rangle$')\n",
    "plt.plot(t, y2, 'r--', label=r'|e$\\rangle$')\n",
    "plt.xlabel(r\"Time [$\\mu s$]\")\n",
    "plt.ylabel(\"Probability Density\")\n",
    "plt.legend(loc='upper right')\n",
    "plt.savefig(\"Figures/detuning.pdf\")"
   ]
  },
  {
   "cell_type": "markdown",
   "id": "af683d8c-6585-49b4-9de0-7cf31f3359ef",
   "metadata": {},
   "source": [
    "### Damping\n",
    "\n",
    "$$ |c_2(t)|^2 = \\frac{1}{2(1 + 2\\zeta^2)}\\left[1 - \\left(\\cos{\\Omega' t} + \\frac{3\\zeta}{(4 - \\zeta^2)^{1/2}}\\sin{\\Omega' t}\\right)\\exp{\\left(-\\frac{3\\gamma t}{2}\\right)}\\right] $$\n",
    "\n",
    "where\n",
    "\n",
    "$$\\zeta = \\gamma/\\Omega_R$$\n",
    "$$\\Omega' = \\Omega_R \\sqrt{1 - \\zeta^2/4}$$"
   ]
  },
  {
   "cell_type": "code",
   "execution_count": null,
   "id": "2ed3109d-1a46-4c55-9f2d-836650fe8d61",
   "metadata": {
    "tags": []
   },
   "outputs": [],
   "source": [
    "# Probability density of excited states in the presence of damping\n",
    "\n",
    "def c2_damp(t, omega_R, gamma):\n",
    "    zeta = gamma / omega_R\n",
    "    omega_prime = omega_R * np.sqrt(1 - (zeta**2 / 4))\n",
    "\n",
    "    # For easy maintainability we divide expression to three parts\n",
    "    y2_damp_1 = 1 / (2 * (1 + (2 * zeta**2)))\n",
    "    y2_damp_2 = np.cos(omega_prime * t) + (3 * zeta)/(np.sqrt(4 - zeta**2)) * np.sin(omega_prime * t)\n",
    "    y2_damp_3 = np.exp(-(3 * gamma * t)/(2))\n",
    "\n",
    "    return y2_damp_1 * (1 - y2_damp_2 * y2_damp_3)\n",
    "\n",
    "gamma1 = omega_R * 0\n",
    "gamma2 = omega_R * 0.1\n",
    "gamma3 = omega_R * 1\n",
    "\n",
    "y2_damp1 = c2_damp(t, omega_R, gamma1)\n",
    "y2_damp2 = c2_damp(t, omega_R, gamma2)\n",
    "y2_damp3 = c2_damp(t, omega_R, gamma3)\n",
    "    \n",
    "# Plotting\n",
    "plt.plot(t, y2_damp1, color='tab:blue', label=r'$\\gamma/\\Omega_R = 0$')\n",
    "plt.plot(t, y2_damp2, '--', color='tab:red', label=r'$\\gamma/\\Omega_R = 0.1$')\n",
    "plt.plot(t, y2_damp3, 'k-.', label=r'$\\gamma/\\Omega_R = 1$')\n",
    "plt.xlabel(r\"Time [$\\mu s$]\")\n",
    "plt.ylabel(r\"$|c_2(t)|^2$\")\n",
    "plt.legend(loc='upper right')\n",
    "plt.savefig(\"Figures/TLS_damping.pdf\")"
   ]
  },
  {
   "cell_type": "markdown",
   "id": "9d8ccf84-be51-420b-b098-941b0555835f",
   "metadata": {
    "tags": []
   },
   "source": [
    "## 4. Solution Using Qutip Toolbox"
   ]
  },
  {
   "cell_type": "code",
   "execution_count": null,
   "id": "87922689-6233-4059-9915-a80cdc090811",
   "metadata": {
    "tags": []
   },
   "outputs": [],
   "source": [
    "# ---------------------------------------------\n",
    "# Two level system solution using Qutip Toolbox\n",
    "# ---------------------------------------------\n",
    "\n",
    "omega_R = 2 * np.pi * 1    # Rabi Fequency 1MHz\n",
    "\n",
    "E_1 = 1\n",
    "E_2 = 2\n",
    "\n",
    "t_i = 0\n",
    "t_f = 5\n",
    "t = np.arange(t_i, t_f, 0.01)   # (\\micro s)\n",
    "\n",
    "ket_1 = basis(2,0)\n",
    "ket_2 = basis(2,1)\n",
    "\n",
    "rho0 = basis(2,0) * basis(2,0).dag()\n",
    "\n",
    "H_a = (E_1 * ket_1 * ket_1.dag()) + (E_2 * ket_2 * ket_2.dag()) \n",
    "H_al = omega_R * (ket_1 * ket_2.dag() + ket_2 * ket_1.dag())\n",
    "H = H_a + H_al\n",
    "\n",
    "sol = mesolve(H_al, rho0, t, c_ops=None, e_ops=[ket_1 * ket_1.dag(), ket_2 * ket_2.dag()])\n",
    "\n",
    "# Plotting\n",
    "plt.plot(t, sol.expect[0], label=r'|g$\\rangle$')\n",
    "plt.plot(t, sol.expect[1], 'r--', label=r'|e$\\rangle$')\n",
    "plt.xlabel(r\"Time [$\\mu s$]\")\n",
    "plt.ylabel(\"Probability Density\")\n",
    "plt.legend(loc='upper right')"
   ]
  }
 ],
 "metadata": {
  "kernelspec": {
   "display_name": "Python 3 (ipykernel)",
   "language": "python",
   "name": "python3"
  },
  "language_info": {
   "codemirror_mode": {
    "name": "ipython",
    "version": 3
   },
   "file_extension": ".py",
   "mimetype": "text/x-python",
   "name": "python",
   "nbconvert_exporter": "python",
   "pygments_lexer": "ipython3",
   "version": "3.11.3"
  }
 },
 "nbformat": 4,
 "nbformat_minor": 5
}
