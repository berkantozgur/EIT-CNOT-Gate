{
 "cells": [
  {
   "cell_type": "code",
   "execution_count": null,
   "id": "0a07524e-214a-4474-9d3a-8814441a6b9c",
   "metadata": {
    "tags": []
   },
   "outputs": [],
   "source": [
    "import numpy as np\n",
    "import matplotlib.pyplot as plt\n",
    "import scienceplots\n",
    "from scipy.integrate import odeint\n",
    "import scipy.constants as cons\n",
    "import scipy.linalg as la\n",
    "from qutip import *\n",
    "\n",
    "from sympy import *\n",
    "from sympy.solvers.solveset import linsolve\n",
    "init_printing(use_unicode=True) # pretty printing"
   ]
  },
  {
   "cell_type": "markdown",
   "id": "1ea0a1d6-0bec-406f-b392-bb952dba5507",
   "metadata": {
    "tags": []
   },
   "source": [
    "# Three Level System Hamiltonian"
   ]
  },
  {
   "cell_type": "markdown",
   "id": "3b02d368-9dea-4499-a171-8b05e9f7416c",
   "metadata": {
    "jp-MarkdownHeadingCollapsed": true,
    "tags": []
   },
   "source": [
    "## Find Eigenvalues and Eigenvectors of Three Level System with Lambda($\\Lambda$) Configuration\n",
    "\n",
    "$$\\hat{H} = \\hat{H}_A + \\hat{H}_{AL}$$\n",
    "\n",
    "$$ \\hat{H}_A = \n",
    "\\begin{bmatrix}\n",
    "E_1 & 0 & 0 \\\\\n",
    "0 & E_2 & 0 \\\\\n",
    "0 & 0 & E_3\n",
    "\\end{bmatrix}$$\n",
    "\n",
    "$$ \\hat{H}_{AL} = \\hbar\n",
    "\\begin{bmatrix}\n",
    "0 & 0 & \\Omega_p/2 \\\\\n",
    "0 & -(\\Delta_p - \\Delta_c) & \\Omega_c/2 \\\\\n",
    "\\Omega_p/2 & \\Omega_c/2 & -\\Delta_p\n",
    "\\end{bmatrix}$$\n"
   ]
  },
  {
   "cell_type": "code",
   "execution_count": null,
   "id": "c447a1fb-3c42-4dd9-8076-fb46bf859635",
   "metadata": {
    "tags": []
   },
   "outputs": [],
   "source": [
    "# Numeric Solution\n",
    "\n",
    "omega_p = 2*np.pi * 10**(-6)    # probe field frequency 1MHz\n",
    "omega_c = 2 * 2*np.pi * 10**(-6)    # coupling field frequency 2MHz\n",
    "\n",
    "E_1, E_2, E_3 = 0, 1, 2\n",
    "\n",
    "H_a = np.array([[E_1, 0, 0], [0, E_2, 0], [0, 0, E_3]])\n",
    "H_al = np.array([[0, 0, omega_p], [0, 0, omega_c], [omega_p, omega_c, 0]])\n",
    "H = H_a + H_al \n",
    "\n",
    "eigvals, eigvecs = la.eig(H_al)\n",
    "eigvals"
   ]
  },
  {
   "cell_type": "code",
   "execution_count": null,
   "id": "e8ab0291-7ce5-4769-8c56-66faa64b34c4",
   "metadata": {
    "tags": []
   },
   "outputs": [],
   "source": [
    "# Symbolic Solution\n",
    "\n",
    "omega_p, omega_c, E_1, E_2, E_3, hbar = symbols('Omega_p Omega_c E_1 E_2 E_3 hbar')\n",
    "\n",
    "H_a = Matrix([[E_1, 0, 0], [0, E_2, 0], [0, 0, E_3]])\n",
    "H_al = hbar * Matrix([[0, 0, omega_p/2], [0, 0, omega_c/2], [omega_p/2, omega_c/2, 0]])\n",
    "H = H_a + H_al \n",
    "\n",
    "a = H_al.eigenvals(simplify=True)\n",
    "s = H_al.eigenvects(simplify=True)\n",
    "s"
   ]
  },
  {
   "cell_type": "markdown",
   "id": "48630583-57e9-40b9-a0de-89d3a75b2cea",
   "metadata": {
    "jp-MarkdownHeadingCollapsed": true,
    "tags": []
   },
   "source": [
    "# Three Level System Optical Bloch Equations"
   ]
  },
  {
   "cell_type": "markdown",
   "id": "892de307-fa34-4795-adc7-413f1d479be5",
   "metadata": {
    "tags": []
   },
   "source": [
    "3D Density Matrix:\n",
    "\n",
    "$$\\hat{\\rho} = \\begin{bmatrix}\n",
    "\\rho_{11} & \\rho_{12} & \\rho_{13} \\\\\n",
    "\\rho_{21} & \\rho_{22} & \\rho_{23} \\\\\n",
    "\\rho_{31} & \\rho_{32} & \\rho_{33}\n",
    "\\end{bmatrix}$$\n",
    "\n",
    "Interaction Hamiltonian:\n",
    "\n",
    "$$ \\hat{H}_{AL} = \\hbar\n",
    "\\begin{bmatrix}\n",
    "0 & 0 & \\Omega_p/2 \\\\\n",
    "0 & -(\\Delta_p - \\Delta_c) & \\Omega_c/2 \\\\\n",
    "\\Omega_p/2 & \\Omega_c/2 & -\\Delta_p\n",
    "\\end{bmatrix}$$"
   ]
  },
  {
   "cell_type": "markdown",
   "id": "f534c450-f446-4c92-9b7b-687bc2ad302e",
   "metadata": {
    "tags": []
   },
   "source": [
    "## Lambda Configuration"
   ]
  },
  {
   "cell_type": "code",
   "execution_count": null,
   "id": "1e611e7e-6a83-45c1-a94b-84150fc6132f",
   "metadata": {
    "tags": []
   },
   "outputs": [],
   "source": [
    "# -- Three Level System - Lambda Configuration\n",
    "\n",
    "# Symbol definitions for density matrix components\n",
    "rho11, rho12, rho13, rho21, rho22, rho23, rho31, rho32, rho33 = symbols('rho11 rho12 rho13 rho21 rho22 rho23 rho31 rho32 rho33')\n",
    "delta_p, delta_c = symbols('Delta_p Delta_c')\n",
    "\n",
    "# Symbol definitions for Hamiltonian components\n",
    "Omega_p, Omega_c = symbols('Omega_p Omega_c')\n",
    "hbar = symbols('hbar')\n",
    "\n",
    "# Symbol definitions for Lindbladian components\n",
    "gamma1, gamma2 = symbols('gamma_1 gamma_2')\n",
    "\n",
    "p = Matrix([[rho11, rho12, rho13], [rho21, rho22, rho23], [rho31, rho32, rho33]]) # Density Matrix\n",
    "\n",
    "H_AL = hbar * Matrix([[0, 0, Omega_p/2], [0, -(delta_p - delta_c), Omega_c/2], [Omega_p/2, Omega_c/2, -delta_p]])\n",
    "\n",
    "# Atomic Transition Operators\n",
    "p11 = Matrix([[1, 0, 0], [0, 0, 0], [0, 0, 0]])\n",
    "p22 = Matrix([[0, 0, 0], [0, 1, 0], [0, 0, 0]])\n",
    "p33 = Matrix([[0, 0, 0], [0, 0, 0], [0, 0, 1]])\n",
    "p12 = Matrix([[0, 1, 0], [0, 0, 0], [0, 0, 0]])\n",
    "p21 = Matrix([[0, 0, 0], [1, 0, 0], [0, 0, 0]])\n",
    "p13 = Matrix([[0, 0, 1], [0, 0, 0], [0, 0, 0]])\n",
    "p31 = Matrix([[0, 0, 0], [0, 0, 0], [1, 0, 0]])\n",
    "p23 = Matrix([[0, 0, 0], [0, 0, 1], [0, 0, 0]])\n",
    "p32 = Matrix([[0, 0, 0], [0, 0, 0], [0, 1, 0]])\n",
    "\n",
    "# Lidbladian Components\n",
    "L31 = gamma1 * ((p13 * p * p31) - (p33 * p)/2 - (p * p33)/2)\n",
    "L32 = gamma2 * ((p23 * p * p32) - (p33 * p)/2 - (p * p33)/2)\n",
    "\n",
    "# Lindbladian\n",
    "L = L31 + L32\n",
    "\n",
    "# Lindbladian Master Equation\n",
    "liouville = -(I/hbar) * ((H_AL * p) - (p * H_AL))\n",
    "obe = liouville + L\n",
    "\n",
    "cond = obe[0] + obe[4] + obe[8]\n",
    "\n",
    "if simplify(cond) == 0:\n",
    "    print(\"The condition p11 + p22 + p33 = 0 holds\")\n",
    "else:\n",
    "    print(\"Conndition does not hold\")\n",
    "\n",
    "#simplify(obe)\n",
    "simplify(H_AL)"
   ]
  },
  {
   "cell_type": "code",
   "execution_count": null,
   "id": "f208023b-dbb0-4f32-a77b-cd33e17abc81",
   "metadata": {
    "tags": []
   },
   "outputs": [],
   "source": [
    "eqns = [obe[0], obe[4], obe[8], obe[1], obe[2], obe[3], obe[5], obe[6], obe[7], Eq(rho11 + rho22 + rho33, 1)]\n",
    "vars = [rho11, rho12, rho13, rho21, rho22, rho23, rho31, rho32, rho33]\n",
    "sol = solve(eqns, vars, rational=False).values()"
   ]
  },
  {
   "cell_type": "markdown",
   "id": "fd656048-f041-4a27-abdc-7189b8f0797f",
   "metadata": {
    "jp-MarkdownHeadingCollapsed": true,
    "tags": []
   },
   "source": [
    "# Solution of Optical Bloch Equations in Three Level System ($\\Lambda$)"
   ]
  },
  {
   "cell_type": "markdown",
   "id": "81c21fe2-2d10-41a2-9997-86d852bcdf2a",
   "metadata": {
    "jp-MarkdownHeadingCollapsed": true,
    "tags": []
   },
   "source": [
    "## 1. Steady State Solution"
   ]
  },
  {
   "cell_type": "code",
   "execution_count": null,
   "id": "4876f6d4-f2e8-46e4-a3db-9dfe6710961b",
   "metadata": {
    "tags": []
   },
   "outputs": [],
   "source": [
    "# -- Three Level System - Lambda Configuration Steady State Solution\n",
    "\n",
    "# Rabi frequencies for probe and coupling fields\n",
    "Omega_p = 2 * np.pi * 1\n",
    "Omega_c = 2 * np.pi * 3\n",
    "\n",
    "wp = (Omega_p*1j)/2\n",
    "wc = (Omega_c*1j)/2\n",
    "\n",
    "# Coupling field detuning\n",
    "dc = 0\n",
    "\n",
    "# Radiative decay rates\n",
    "gamma1 = 2 * np.pi * 1\n",
    "gamma2 = 2 * np.pi * 0\n",
    "\n",
    "gmean = (gamma1 + gamma2) / 2\n",
    "\n",
    "# Probe detuning range\n",
    "dp_range = np.arange(-50,51,0.01)    \n",
    "\n",
    "sol = np.empty((9, len(dp_range)), dtype='complex')\n",
    "for dp in range(len(dp_range)):\n",
    "    \n",
    "    drho = np.array([[0, 0, wp, 0, 0, 0, -wp, 0, gamma1],                       # p11\n",
    "                     [0, -(dp_range[dp] - dc)*1j, wc, 0, 0, 0, 0, -wp, 0],      # p12\n",
    "                     [wp, wc, -dp_range[dp]*1j - gmean, 0, 0, 0, 0, 0, -wp],    # p13\n",
    "                     [0, 0, 0, (dp_range[dp] - dc)*1j, 0, wp, -wc, 0, 0],       # p21\n",
    "                     [0, 0, 0, 0, 0, wc, 0, -wc, gamma2],                       # p22\n",
    "                     [0, 0, 0, wp, wc, -dc*1j - gmean, 0, 0, -wc],              # p23\n",
    "                     [-wp, 0, 0, -wc, 0, 0, (dp_range[dp]*1j) - gmean, 0, wp],  # p31\n",
    "                     [0, -wp, 0, 0, -wc, 0, 0, (dc*1j) - gmean, wc],            # p32\n",
    "                     [0, 0, -wp, 0, 0, -wc, wp, wc, -(gamma1 + gamma2)],        # p33\n",
    "                     [1, 0, 0, 0, 1, 0, 0, 0, 1]])\n",
    "\n",
    "    b = np.array([0, 0, 0, 0, 0, 0, 0, 0, 0, 1])\n",
    "\n",
    "    rho = la.lstsq(drho, b)[0]\n",
    "    sol[:, dp] = rho\n",
    "\n",
    "pop = sol[0] + sol[4] + sol[8]  # total populations\n",
    "\n",
    "# ---------- Plotting ----------\n",
    "plt.style.use(['science', 'notebook', 'grid'])\n",
    "\n",
    "# Populations\n",
    "plt.plot(dp_range/(2*np.pi), sol[0, :].real, label=r\"$|1\\rangle$\")\n",
    "plt.plot(dp_range/(2*np.pi), sol[4, :].real, label=r\"$|2\\rangle$\")\n",
    "plt.plot(dp_range/(2*np.pi), sol[8, :].real, label=r\"$|3\\rangle$\")\n",
    "\n",
    "# Total population\n",
    "#plt.plot(dp_range/(2*np.pi), pop.real, label=\"Total populations\")\n",
    "\n",
    "plt.xlabel('$\\Delta_p/2\\pi$')\n",
    "plt.ylabel(r'Population ($\\rho$)')\n",
    "\n",
    "plt.legend(loc='upper right')\n",
    "#plt.legend(loc='upper right', bbox_to_anchor=(1.35, 0.75))\n",
    "#plt.savefig('')"
   ]
  },
  {
   "cell_type": "markdown",
   "id": "835d0b0b-cc25-48af-aaab-6061a0d8b7ed",
   "metadata": {},
   "source": [
    "### Comparison Between Two-Level and Three-Level System "
   ]
  },
  {
   "cell_type": "code",
   "execution_count": null,
   "id": "02d1aa66-3187-4823-83df-262e6cdb4029",
   "metadata": {},
   "outputs": [],
   "source": [
    "# ---------- Plotting ----------\n",
    "plt.style.use(['science', 'notebook', 'grid'])\n",
    "\n",
    "%store -r rho12\n",
    "\n",
    "# Rho13 Im part\n",
    "plt.plot(dp_range/(2*np.pi), sol[2, :].imag, label=r'Three-Level', color='tab:blue')\n",
    "plt.plot(dp_range/(2*np.pi), rho12, label=r'Two-Level', color='tab:red')\n",
    "\n",
    "plt.xlabel('$\\Delta_p/2\\pi$')\n",
    "plt.ylabel('Absorption')\n",
    "\n",
    "plt.legend(loc='upper right')\n",
    "#plt.legend(loc='upper right', bbox_to_anchor=(1.35, 0.75))\n",
    "plt.savefig('Figures/3LS_comparison.pdf')"
   ]
  },
  {
   "cell_type": "markdown",
   "id": "7d3731e9-3dc4-4d13-a865-9966eff3db9d",
   "metadata": {
    "jp-MarkdownHeadingCollapsed": true,
    "tags": []
   },
   "source": [
    "## 2. Numerical Solution"
   ]
  },
  {
   "cell_type": "markdown",
   "id": "bb904f7e-cd59-4db4-b15d-0149cb8522f3",
   "metadata": {
    "jp-MarkdownHeadingCollapsed": true,
    "tags": []
   },
   "source": [
    "### a. Lambda Configuration\n",
    "$$\\displaystyle \\left[\\begin{matrix}- \\frac{i \\left(- \\Omega_{p} \\rho_{13} + \\Omega_{p} \\rho_{31}\\right)}{\\hbar} & - \\frac{i \\left(- \\Omega_{c} \\rho_{13} + \\Omega_{p} \\rho_{32}\\right)}{\\hbar} & - \\frac{i \\left(- \\Omega_{c} \\rho_{12} - \\Omega_{p} \\rho_{11} + \\Omega_{p} \\rho_{33}\\right)}{\\hbar}\\\\- \\frac{i \\left(\\Omega_{c} \\rho_{31} - \\Omega_{p} \\rho_{23}\\right)}{\\hbar} & - \\frac{i \\left(- \\Omega_{c} \\rho_{23} + \\Omega_{c} \\rho_{32}\\right)}{\\hbar} & - \\frac{i \\left(- \\Omega_{c} \\rho_{22} + \\Omega_{c} \\rho_{33} - \\Omega_{p} \\rho_{21}\\right)}{\\hbar}\\\\- \\frac{i \\left(\\Omega_{c} \\rho_{21} + \\Omega_{p} \\rho_{11} - \\Omega_{p} \\rho_{33}\\right)}{\\hbar} & - \\frac{i \\left(\\Omega_{c} \\rho_{22} - \\Omega_{c} \\rho_{33} + \\Omega_{p} \\rho_{12}\\right)}{\\hbar} & - \\frac{i \\left(\\Omega_{c} \\rho_{23} - \\Omega_{c} \\rho_{32} + \\Omega_{p} \\rho_{13} - \\Omega_{p} \\rho_{31}\\right)}{\\hbar}\\end{matrix}\\right]$$"
   ]
  },
  {
   "cell_type": "markdown",
   "id": "9fb1c839-5c80-426b-b24b-0a6297a80069",
   "metadata": {
    "jp-MarkdownHeadingCollapsed": true,
    "tags": []
   },
   "source": [
    "#### Steady State Solution"
   ]
  },
  {
   "cell_type": "code",
   "execution_count": null,
   "id": "f40cb639-af98-4e0d-8dea-e68def2643ee",
   "metadata": {
    "tags": []
   },
   "outputs": [],
   "source": [
    " # -- Three Level System - Lambda Configuration Steady State Solution\n",
    "\n",
    "omega_p = 2*np.pi * 10**(-6)    # probe field frequency 1MHz\n",
    "omega_c = 2 * (2*np.pi * 10**(-6))    # coupling field frequency 2MHz\n",
    "gamma1, gamma2 = 1, 1\n",
    "hbar = cons.hbar\n",
    "\n",
    "wp = complex(0, omega_p)/hbar\n",
    "wc = complex(0, omega_c)/hbar\n",
    "\n",
    "# wrong ordering\n",
    "#drho = np.array([[0, 0, wp, 0, 0, 0, -wp, 0, gamma1],                   # p11\n",
    "#                 [0, 0, 0, 0, 0, wc, 0, -wc, gamma2],                   # p22\n",
    "#                 [0, 0, -wp, 0, 0, -wc, wp, wc, -(gamma1 + gamma2)],    # p33\n",
    "#                 [0, 0, wc, 0, 0, 0, 0, -wp, 0],                        # p12\n",
    "#                 [wp, wc, -(gamma1 + gamma2)/2, 0, 0, 0, 0, 0, -wp],    # p13\n",
    "#                 [0, 0, 0, wp, wc, -(gamma1 + gamma2)/2, 0, 0, -wc],    # p23\n",
    "#                 [0, 0, 0, 0, 0, wp, -wc, 0, 0],                        # p21\n",
    "#                 [-wp, 0, 0, -wc, 0, 0, -(gamma1 + gamma2)/2, 0, wp],   # p31\n",
    "#                 [0, -wp, 0, 0, -wc, 0, 0, -(gamma1 + gamma2)/2, wc]])  # p32\n",
    "\n",
    "drho = np.array([[0, 0, gamma1, 0, wp, 0, 0, -wp, 0],                    # p11\n",
    "                 [0, 0, gamma2, 0, 0, wc, 0, 0, -wc],                    # p22\n",
    "                 [0, 0, -(gamma1 + gamma2), 0, -wp, -wc, 0, wp, wc],     # p33\n",
    "                 [0, 0, 0, 0, wc, 0, 0, 0, -wp],                         # p12\n",
    "                 [wp, 0, -wp, wc, -(gamma1 + gamma2)/2, 0, 0, 0, 0],     # p13\n",
    "                 [0, wc, -wc, 0, 0, -(gamma1 + gamma2)/2, wp, 0, 0]])    # p23\n",
    "              \n",
    "#                 [0, 0, 0, 0, 0, wp, 0, -wc, 0],                        # p21\n",
    "#                 [-wp, 0, wp, 0, 0, 0, -wc, -(gamma1 + gamma2)/2, 0],   # p31\n",
    "#                 [0, -wc, wc, -wp, 0, 0, 0, 0, -(gamma1 + gamma2)/2]])  # p32\n",
    "\n",
    "b = np.array([[0], [0], [0], [0], [0], [0], [0], [0], [0]])\n",
    "\n",
    "#pl, u = la.lu(drho, permute_l=True)\n",
    "#u\n",
    "#rho = la.solve(drho, b)"
   ]
  },
  {
   "cell_type": "code",
   "execution_count": null,
   "id": "eb3c395d-87ad-45ed-a112-3f40ffe8ea9f",
   "metadata": {
    "tags": []
   },
   "outputs": [],
   "source": [
    "omega_p, omega_c = symbols('Omega_p Omega_c')\n",
    "\n",
    "             # p11 p12  p13   p21 p22 p23  p31   p32 p33\n",
    "drho = Matrix([[0, 0, -omega_p, 0, 0, 0, omega_p, 0, 0],                 # 1\n",
    "               [0, 0, -omega_c, 0, 0, 0, 0, omega_p, 0],                 # 2\n",
    "               [-omega_p, -omega_c, 0, 0, 0, 0, 0, 0, omega_p],          # 3\n",
    "               [0, 0, 0, 0, 0, -omega_p, omega_c, 0, 0],                 # 4\n",
    "               [0, 0, 0, 0, 0, -omega_c, 0, omega_c, 0],                 # 5\n",
    "               [0, 0, 0, -omega_p, -omega_c, 0, 0, 0, omega_c],          # 6\n",
    "               [omega_p, 0, 0, omega_c, 0, 0, 0, 0, -omega_p],           # 7\n",
    "               [0, omega_p, 0, 0, omega_c, 0, 0, 0, -omega_c],           # 8\n",
    "               [0, 0, omega_p, 0, 0, omega_c, -omega_p, -omega_c, 0]])   # 9\n",
    "\n",
    "L, U, _ = drho.LUdecomposition()\n",
    "\n",
    "U\n"
   ]
  },
  {
   "cell_type": "markdown",
   "id": "f960c264-b50c-4a40-86d8-9d6b4df6fb9a",
   "metadata": {
    "tags": []
   },
   "source": [
    "#### Dynamic Solution"
   ]
  },
  {
   "cell_type": "code",
   "execution_count": null,
   "id": "19a21f50-676a-4c84-a064-7f25f698d5b9",
   "metadata": {
    "tags": []
   },
   "outputs": [],
   "source": [
    "# -- Three Level System - Lambda Configuration\n",
    "\n",
    "omega_p = 2*np.pi * 10**(-6)    # probe field frequency 1MHz\n",
    "omega_c = 2 * (2*np.pi * 10**(-6))    # coupling field frequency 2MHz\n",
    "\n",
    "t_i = 0\n",
    "t_f = (10*np.pi) / omega_p\n",
    "t = np.linspace(t_i, t_f, 350)\n",
    "\n",
    "def dSdt(t, S):\n",
    "    c = - 1/cons.hbar\n",
    "    p11, p12, p13, p21, p22, p23, p31, p32, p33 = S\n",
    "    return [c * ((p31 - p13) * omega_p),                              # dp11dt\n",
    "           c * ((p32 * omega_p) - (p13 * omega_c)),                   # dp12dt\n",
    "           c * ((p33 - p11) * omega_p - (p12 * omega_c)),             # dp13dt \n",
    "           c * ((p31 * omega_c) - (p23 * omega_p)),                   # dp21dt\n",
    "           c * ((p32 * omega_c) - (p23 * omega_c)),                   # dp22dt  \n",
    "           c * (((p33 - p22) * omega_c) - (p21 * omega_p)),           # dp23dt\n",
    "           c * (((p11 - p33) * omega_p) + (p21 * omega_c)),           # dp31dt\n",
    "           c * (((p22 - p33) * omega_c) + (p12 * omega_p)),           # dp32dt\n",
    "           c * (((p23 - p32) * omega_c) + ((p13 - p31) * omega_p))]   # dp33dt\n",
    "            \n",
    "p11_0, p12_0, p13_0 = 1, 0, 0\n",
    "p21_0, p22_0, p23_0 = 0, 0, 0\n",
    "p31_0, p32_0, p33_0 = 0, 0, 0\n",
    "    \n",
    "S_0 = (p11_0, p12_0, p13_0, p21_0, p22_0, p23_0, p31_0, p32_0, p33_0)\n",
    "\n",
    "sol = odeint(dSdt, y0=S_0, t=t, tfirst=True)\n",
    "\n",
    "p11_sol, p12_sol, p13_sol = sol.T[0], sol.T[1], sol.T[2]\n",
    "p21_sol, p22_sol, p23_sol = sol.T[3], sol.T[4], sol.T[5]\n",
    "p31_sol, p32_sol, p33_sol = sol.T[6], sol.T[7], sol.T[8]\n",
    "\n",
    "# Plotting\n",
    "plt.plot(t, p11_sol) #label=r'|g$\\rangle$')\n",
    "#plt.plot(t, p12_sol) #label=r'|g$\\rangle$')\n",
    "#plt.plot(t, p13_sol) #label=r'|g$\\rangle$')\n",
    "#plt.plot(t, p21_sol) #label=r'|g$\\rangle$')\n",
    "plt.plot(t, p22_sol) #label=r'|g$\\rangle$')\n",
    "#plt.plot(t, p23_sol) #label=r'|g$\\rangle$')\n",
    "#plt.plot(t, p31_sol) #label=r'|g$\\rangle$')\n",
    "#plt.plot(t, p32_sol) #label=r'|g$\\rangle$')\n",
    "plt.plot(t, p33_sol) #label=r'|g$\\rangle$')\n",
    "\n",
    "plt.xlabel(\"Time\")\n",
    "plt.ylabel(\"Population\")\n",
    "#plt.legend(loc='upper right')"
   ]
  },
  {
   "cell_type": "markdown",
   "id": "d8f1e096-4cb3-4862-8586-9f9879ba11e7",
   "metadata": {
    "tags": []
   },
   "source": [
    "### b. Ladder Configuration\n",
    "$$\n",
    "\\displaystyle \\left[\\begin{matrix}- \\frac{i \\left(- \\Omega_{1} \\rho_{12} + \\Omega_{1} \\rho_{21}\\right)}{\\hbar} & - \\frac{i \\left(- \\Omega_{1} \\rho_{11} + \\Omega_{1} \\rho_{22} - \\Omega_{2} \\rho_{13}\\right)}{\\hbar} & - \\frac{i \\left(\\Omega_{1} \\rho_{23} - \\Omega_{2} \\rho_{12}\\right)}{\\hbar}\\\\- \\frac{i \\left(\\Omega_{1} \\rho_{11} - \\Omega_{1} \\rho_{22} + \\Omega_{2} \\rho_{31}\\right)}{\\hbar} & - \\frac{i \\left(\\Omega_{1} \\rho_{12} - \\Omega_{1} \\rho_{21} - \\Omega_{2} \\rho_{23} + \\Omega_{2} \\rho_{32}\\right)}{\\hbar} & - \\frac{i \\left(\\Omega_{1} \\rho_{13} - \\Omega_{2} \\rho_{22} + \\Omega_{2} \\rho_{33}\\right)}{\\hbar}\\\\- \\frac{i \\left(- \\Omega_{1} \\rho_{32} + \\Omega_{2} \\rho_{21}\\right)}{\\hbar} & - \\frac{i \\left(- \\Omega_{1} \\rho_{31} + \\Omega_{2} \\rho_{22} - \\Omega_{2} \\rho_{33}\\right)}{\\hbar} & - \\frac{i \\left(\\Omega_{2} \\rho_{23} - \\Omega_{2} \\rho_{32}\\right)}{\\hbar}\\end{matrix}\\right]$$"
   ]
  },
  {
   "cell_type": "code",
   "execution_count": null,
   "id": "5cd515db-2e5b-4d17-b954-d810a0f6249b",
   "metadata": {
    "tags": []
   },
   "outputs": [],
   "source": [
    "# -- Three Level System - Ladder Configuration\n",
    "\n",
    "omega_1 = 2*np.pi * 10**(-6)    # probe field frequency 1MHz\n",
    "omega_2 = 2 * (2*np.pi * 10**(-6))    # coupling field frequency 2MHz\n",
    "\n",
    "t_i = 0\n",
    "t_f = (10*np.pi) / omega_1\n",
    "t = np.linspace(t_i, t_f, 350)\n",
    "\n",
    "def dSdt(t, S):\n",
    "    c = - 1/cons.hbar\n",
    "    p11, p12, p13, p21, p22, p23, p31, p32, p33 = S\n",
    "    return [c * ((p21 - p12) * omega_1),                        # dp11dt\n",
    "           c * ((p22 - p11) * omega_1 - (p13 * omega_2)),       # dp12dt\n",
    "           c * ((p23 * omega_1) - (p12 * omega_2)),             # dp13dt \n",
    "           c * ((p11 - p22) * omega_1 + (p31 * omega_2)),       # dp21dt\n",
    "           c * ((p12 - p21) * omega_1 + (p32 - p23) * omega_2), # dp22dt  \n",
    "           c * ((p13 * omega_1) + (p33 - p32) * omega_2),       # dp23dt\n",
    "           c * ((p21*omega_2) - (p32 * omega_1)),               # dp31dt\n",
    "           c * ((-p31 * omega_1) + (p22 - p33) * omega_2),      # dp32dt\n",
    "           c * ((p23 - p32) * omega_2)]                         # dp33dt\n",
    "            \n",
    "p11_0, p12_0, p13_0 = 1, 0, 0\n",
    "p21_0, p22_0, p23_0 = 0, 0, 0\n",
    "p31_0, p32_0, p33_0 = 0, 0, 0\n",
    "    \n",
    "S_0 = (p11_0, p12_0, p13_0, p21_0, p22_0, p23_0, p31_0, p32_0, p33_0)\n",
    "\n",
    "sol = odeint(dSdt, y0=S_0, t=t, tfirst=True)\n",
    "\n",
    "p11_sol, p12_sol, p13_sol = sol.T[0], sol.T[1], sol.T[2]\n",
    "p21_sol, p22_sol, p23_sol = sol.T[3], sol.T[4], sol.T[5]\n",
    "p31_sol, p32_sol, p33_sol = sol.T[6], sol.T[7], sol.T[8]\n",
    "\n",
    "# Plotting\n",
    "plt.plot(t, p11_sol) #label=r'|g$\\rangle$')\n",
    "#plt.plot(t, p12_sol) #label=r'|g$\\rangle$')\n",
    "#plt.plot(t, p13_sol) #label=r'|g$\\rangle$')\n",
    "#plt.plot(t, p21_sol) #label=r'|g$\\rangle$')\n",
    "plt.plot(t, p22_sol) #label=r'|g$\\rangle$')\n",
    "#plt.plot(t, p23_sol) #label=r'|g$\\rangle$')\n",
    "#plt.plot(t, p31_sol) #label=r'|g$\\rangle$')\n",
    "#plt.plot(t, p32_sol) #label=r'|g$\\rangle$')\n",
    "plt.plot(t, p33_sol) #label=r'|g$\\rangle$')\n",
    "\n",
    "plt.xlabel(\"Time\")\n",
    "plt.ylabel(\"Population\")\n",
    "#plt.legend(loc='upper right')"
   ]
  },
  {
   "cell_type": "markdown",
   "id": "79e409bc-1660-4b95-82f1-0925c0851182",
   "metadata": {
    "jp-MarkdownHeadingCollapsed": true,
    "tags": []
   },
   "source": [
    "## 3. Solution Using Qutip Toolbox"
   ]
  },
  {
   "cell_type": "code",
   "execution_count": null,
   "id": "10f2e4c9-849b-4108-91c9-c3b41f9097c6",
   "metadata": {
    "tags": []
   },
   "outputs": [],
   "source": [
    "# -- Three Level System - Lambda Configuration\n",
    "\n",
    "omega_p = 2*np.pi * 10**(-6)    # probe field frequency 1MHz\n",
    "omega_c = 2 * (2*np.pi * 10**(-6))    # coupling field frequency 2MHz\n",
    "\n",
    "t_i = 0\n",
    "t_f = (10*np.pi) / omega_p\n",
    "t = np.linspace(t_i, t_f, 350)\n",
    "\n",
    "ket_1 = basis(3,0)\n",
    "ket_2 = basis(3,1)\n",
    "ket_3 = basis(3,2)\n",
    "\n",
    "rho0 = basis(3,0) * basis(3,0).dag()\n",
    "\n",
    "H_al = omega_p * ((ket_1 * ket_3.dag()) +  (ket_3 * ket_1.dag())) + omega_c * ((ket_3 * ket_2.dag()) + (ket_2 * ket_3.dag()))\n",
    "\n",
    "sol = mesolve(H_al, rho0, t, c_ops=None, e_ops=[ket_1 * ket_1.dag(), ket_2 * ket_2.dag(), ket_3 * ket_3.dag()])\n",
    "\n",
    "sol_1, sol_2, sol_3 = sol.expect[0], sol.expect[1], sol.expect[2]\n",
    "\n",
    "# Plotting\n",
    "plt.plot(t, sol_1, label=r'|1$\\rangle$')\n",
    "plt.plot(t, sol_2, 'r--', label=r'|2$\\rangle$')\n",
    "plt.plot(t, sol_3, 'g-.', label=r'|3$\\rangle$')\n",
    "plt.xlabel(\"Time\")\n",
    "plt.ylabel(\"Population\")\n",
    "plt.legend(loc='upper right')\n",
    "\n",
    "### TESTING SUM OF POPULATIONS ###\n",
    "a = []    # after for loop is executed this list should contain only ones in it.\n",
    "for i in range(len(sol_1)):\n",
    "    sum = sol_1[i] + sol_2[i] + sol_3[i]\n",
    "    a.append(sum)"
   ]
  }
 ],
 "metadata": {
  "kernelspec": {
   "display_name": "Python 3 (ipykernel)",
   "language": "python",
   "name": "python3"
  },
  "language_info": {
   "codemirror_mode": {
    "name": "ipython",
    "version": 3
   },
   "file_extension": ".py",
   "mimetype": "text/x-python",
   "name": "python",
   "nbconvert_exporter": "python",
   "pygments_lexer": "ipython3",
   "version": "3.11.3"
  }
 },
 "nbformat": 4,
 "nbformat_minor": 5
}
