{
 "cells": [
  {
   "cell_type": "code",
   "execution_count": null,
   "id": "5a8698ef-b789-4de5-afce-db755fe10529",
   "metadata": {
    "tags": []
   },
   "outputs": [],
   "source": [
    "import numpy as np\n",
    "import matplotlib.pyplot as plt\n",
    "import scienceplots\n",
    "from scipy.integrate import odeint\n",
    "import scipy.constants as cons\n",
    "import scipy.linalg as la\n",
    "import scipy.optimize as op\n",
    "from qutip import *\n",
    "\n",
    "from sympy import *\n",
    "init_printing(use_unicode=True) # pretty printing"
   ]
  },
  {
   "cell_type": "markdown",
   "id": "c1cae492-6710-4729-b83c-a56a06694335",
   "metadata": {
    "jp-MarkdownHeadingCollapsed": true,
    "tags": []
   },
   "source": [
    "## Lambda Configuration Steady State Solution\n",
    "$$\\displaystyle \\left[\\begin{matrix}\\frac{i \\Omega_{p} \\left(\\rho_{13} - \\rho_{31}\\right)}{2} + \\gamma_{1} \\rho_{33} & \\frac{i \\left(\\Omega_{c} \\rho_{13} - \\Omega_{p} \\rho_{32} + 2 \\rho_{12} \\left(\\Delta_{c} - \\Delta_{p}\\right)\\right)}{2} & - \\frac{\\rho_{13} \\left(\\gamma_{1} + \\gamma_{2}\\right)}{2} - \\frac{i \\left(2 \\Delta_{p} \\rho_{13} - \\Omega_{c} \\rho_{12} - \\Omega_{p} \\rho_{11} + \\Omega_{p} \\rho_{33}\\right)}{2}\\\\\\frac{i \\left(- \\Omega_{c} \\rho_{31} + \\Omega_{p} \\rho_{23} - 2 \\rho_{21} \\left(\\Delta_{c} - \\Delta_{p}\\right)\\right)}{2} & \\frac{i \\Omega_{c} \\left(\\rho_{23} - \\rho_{32}\\right)}{2} + \\gamma_{2} \\rho_{33} & - i \\Delta_{c} \\rho_{23} + \\frac{i \\Omega_{c} \\rho_{22}}{2} - \\frac{i \\Omega_{c} \\rho_{33}}{2} + \\frac{i \\Omega_{p} \\rho_{21}}{2} - \\frac{\\gamma_{1} \\rho_{23}}{2} - \\frac{\\gamma_{2} \\rho_{23}}{2}\\\\- \\frac{\\rho_{31} \\left(\\gamma_{1} + \\gamma_{2}\\right)}{2} + \\frac{i \\left(2 \\Delta_{p} \\rho_{31} - \\Omega_{c} \\rho_{21} - \\Omega_{p} \\rho_{11} + \\Omega_{p} \\rho_{33}\\right)}{2} & i \\Delta_{c} \\rho_{32} - \\frac{i \\Omega_{c} \\rho_{22}}{2} + \\frac{i \\Omega_{c} \\rho_{33}}{2} - \\frac{i \\Omega_{p} \\rho_{12}}{2} - \\frac{\\gamma_{1} \\rho_{32}}{2} - \\frac{\\gamma_{2} \\rho_{32}}{2} & - \\rho_{33} \\left(\\gamma_{1} + \\gamma_{2}\\right) - \\frac{i \\left(\\Omega_{c} \\rho_{23} - \\Omega_{c} \\rho_{32} + \\Omega_{p} \\rho_{13} - \\Omega_{p} \\rho_{31}\\right)}{2}\\end{matrix}\\right]$$"
   ]
  },
  {
   "cell_type": "code",
   "execution_count": null,
   "id": "c8df333a-54a8-464d-aee2-37c70f5e057d",
   "metadata": {
    "tags": []
   },
   "outputs": [],
   "source": [
    "# -- Three Level System - Lambda Configuration\n",
    "\n",
    "# Symbol definitions for density matrix components\n",
    "rho11, rho12, rho13, rho21, rho22, rho23, rho31, rho32, rho33 = symbols('rho11 rho12 rho13 rho21 rho22 rho23 rho31 rho32 rho33')\n",
    "delta_p, delta_c = symbols('Delta_p Delta_c')\n",
    "\n",
    "# Symbol definitions for Hamiltonian components\n",
    "Omega_p, Omega_c = symbols('Omega_p Omega_c')\n",
    "hbar = symbols('hbar')\n",
    "\n",
    "# Symbol definitions for Lindbladian components\n",
    "gamma1, gamma2 = symbols('gamma_1 gamma_2')\n",
    "\n",
    "p = Matrix([[rho11, rho12, rho13], [rho21, rho22, rho23], [rho31, rho32, rho33]]) # Density Matrix\n",
    "\n",
    "H_AL = hbar * Matrix([[0, 0, Omega_p/2], [0, -(delta_p - delta_c), Omega_c/2], [Omega_p/2, Omega_c/2, -delta_p]])\n",
    "\n",
    "# Atomic Transition Operators\n",
    "p11 = Matrix([[1, 0, 0], [0, 0, 0], [0, 0, 0]])\n",
    "p22 = Matrix([[0, 0, 0], [0, 1, 0], [0, 0, 0]])\n",
    "p33 = Matrix([[0, 0, 0], [0, 0, 0], [0, 0, 1]])\n",
    "p12 = Matrix([[0, 1, 0], [0, 0, 0], [0, 0, 0]])\n",
    "p21 = Matrix([[0, 0, 0], [1, 0, 0], [0, 0, 0]])\n",
    "p13 = Matrix([[0, 0, 1], [0, 0, 0], [0, 0, 0]])\n",
    "p31 = Matrix([[0, 0, 0], [0, 0, 0], [1, 0, 0]])\n",
    "p23 = Matrix([[0, 0, 0], [0, 0, 1], [0, 0, 0]])\n",
    "p32 = Matrix([[0, 0, 0], [0, 0, 0], [0, 1, 0]])\n",
    "\n",
    "# Lidbladian Components\n",
    "L31 = gamma1 * ((p13 * p * p31) - (p33 * p)/2 - (p * p33)/2)\n",
    "L32 = gamma2 * ((p23 * p * p32) - (p33 * p)/2 - (p * p33)/2)\n",
    "\n",
    "# Lindbladian\n",
    "L = L31 + L32\n",
    "\n",
    "# Lindbladian Master Equation\n",
    "liouville = -(I/hbar) * ((H_AL * p) - (p * H_AL))\n",
    "obe = liouville + L\n",
    "\n",
    "cond = obe[0] + obe[4] + obe[8]\n",
    "\n",
    "if simplify(cond) == 0:\n",
    "    print(\"The condition p11 + p22 + p33 = 0 holds\")\n",
    "else:\n",
    "    print(\"Conndition does not hold\")\n",
    "\n",
    "#simplify(obe)\n",
    "simplify(H_AL)"
   ]
  },
  {
   "cell_type": "code",
   "execution_count": null,
   "id": "ac54adfb-a43f-4ab1-9325-bcde01535d4f",
   "metadata": {
    "tags": []
   },
   "outputs": [],
   "source": [
    "# -- Three Level System - Lambda Configuration Steady State Solution\n",
    "\n",
    "# Rabi frequencies for probe and coupling fields\n",
    "Omega_p = 2 * np.pi * 1\n",
    "Omega_c = 2 * np.pi * 3\n",
    "\n",
    "wp = (Omega_p*1j)/2\n",
    "wc = (Omega_c*1j)/2\n",
    "\n",
    "# Coupling field detuning\n",
    "dc = 0\n",
    "\n",
    "# Radiative decay rates\n",
    "gamma1 = 2 * np.pi * 1\n",
    "gamma2 = 2 * np.pi * 0\n",
    "\n",
    "gmean = (gamma1 + gamma2) / 2\n",
    "\n",
    "# Probe detuning range\n",
    "dp_range = np.arange(-50,51,0.01)    \n",
    "\n",
    "sol = np.empty((9, len(dp_range)), dtype='complex')\n",
    "for dp in range(len(dp_range)):\n",
    "    \n",
    "    drho = np.array([[0, 0, wp, 0, 0, 0, -wp, 0, gamma1],                       # p11\n",
    "                     [0, -(dp_range[dp] - dc)*1j, wc, 0, 0, 0, 0, -wp, 0],      # p12\n",
    "                     [wp, wc, -dp_range[dp]*1j - gmean, 0, 0, 0, 0, 0, -wp],    # p13\n",
    "                     [0, 0, 0, (dp_range[dp] - dc)*1j, 0, wp, -wc, 0, 0],       # p21\n",
    "                     [0, 0, 0, 0, 0, wc, 0, -wc, gamma2],                       # p22\n",
    "                     [0, 0, 0, wp, wc, -dc*1j - gmean, 0, 0, -wc],              # p23\n",
    "                     [-wp, 0, 0, -wc, 0, 0, (dp_range[dp]*1j) - gmean, 0, wp],  # p31\n",
    "                     [0, -wp, 0, 0, -wc, 0, 0, (dc*1j) - gmean, wc],            # p32\n",
    "                     [0, 0, -wp, 0, 0, -wc, wp, wc, -(gamma1 + gamma2)],        # p33\n",
    "                     [1, 0, 0, 0, 1, 0, 0, 0, 1]])\n",
    "\n",
    "    b = np.array([0, 0, 0, 0, 0, 0, 0, 0, 0, 1])\n",
    "\n",
    "    rho = la.lstsq(drho, b)[0]\n",
    "    sol[:, dp] = rho\n",
    "\n",
    "pop = sol[0] + sol[4] + sol[8]  # total populations\n",
    "\n",
    "# ---------- Plotting ----------\n",
    "plt.style.use(['science', 'notebook', 'grid'])\n",
    "\n",
    "# Populations\n",
    "plt.plot(dp_range/(2*np.pi), sol[0, :].real, label=r\"$|1\\rangle$\")\n",
    "plt.plot(dp_range/(2*np.pi), sol[4, :].real, label=r\"$|2\\rangle$\")\n",
    "plt.plot(dp_range/(2*np.pi), sol[8, :].real, label=r\"$|3\\rangle$\")\n",
    "\n",
    "# Total population\n",
    "#plt.plot(dp_range/(2*np.pi), pop.real, label=\"Total populations\")\n",
    "\n",
    "plt.xlabel('$\\Delta_p/2\\pi$')\n",
    "plt.ylabel(r'Population ($\\rho$)')\n",
    "\n",
    "plt.legend(loc='upper right')\n",
    "#plt.legend(loc='upper right', bbox_to_anchor=(1.48, 0.75))\n",
    "plt.savefig(\"Figures/3LS_pop.pdf\")"
   ]
  },
  {
   "cell_type": "code",
   "execution_count": null,
   "id": "da52e707-cb17-4c44-8fee-90e4c2fd9aae",
   "metadata": {},
   "outputs": [],
   "source": [
    "# Rho13 Im and Re parts\n",
    "plt.plot(dp_range/(2*np.pi), sol[2, :].imag, label=r'$\\rho_{13}$ Im')\n",
    "plt.plot(dp_range/(2*np.pi), sol[2, :].real, label=r'$\\rho_{13}$ Re')\n",
    "plt.xlabel(\"$\\Delta_p/2\\pi$\")\n",
    "plt.ylabel('Population')\n",
    "plt.legend(loc='upper right')\n",
    "plt.savefig(\"Figures/3LS_coherences.pdf\")"
   ]
  }
 ],
 "metadata": {
  "kernelspec": {
   "display_name": "Python 3 (ipykernel)",
   "language": "python",
   "name": "python3"
  },
  "language_info": {
   "codemirror_mode": {
    "name": "ipython",
    "version": 3
   },
   "file_extension": ".py",
   "mimetype": "text/x-python",
   "name": "python",
   "nbconvert_exporter": "python",
   "pygments_lexer": "ipython3",
   "version": "3.11.3"
  }
 },
 "nbformat": 4,
 "nbformat_minor": 5
}
